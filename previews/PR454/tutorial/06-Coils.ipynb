{
 "cells": [
  {
   "cell_type": "markdown",
   "source": [
    "# Experimental: Simulating with realistic coils"
   ],
   "metadata": {}
  },
  {
   "outputs": [],
   "cell_type": "code",
   "source": [
    "using KomaMRI, MAT # hide\n",
    "sys = Scanner() # hide"
   ],
   "metadata": {},
   "execution_count": null
  },
  {
   "cell_type": "markdown",
   "source": [
    "Loading coil sensitivities generated from electromagnetic simulation software.\n",
    "To plot the coil sensitivities we will use the Phantom object:"
   ],
   "metadata": {}
  },
  {
   "outputs": [],
   "cell_type": "code",
   "source": [
    "ph_file = joinpath(dirname(pathof(KomaMRI)), \"../examples/2.phantoms/sphere_fields.mat\")\n",
    "sphere = matread(ph_file)\n",
    "Δx = 1e-3                   # 5mm\n",
    "N = size(sphere[\"b1m\"])  # Number of spins\n",
    "FOV = (N .- 1) .* Δx    # Field of view\n",
    "xr = -FOV[1]/2:Δx:FOV[1]/2  # x spin coordinates vector\n",
    "ρ = abs.(sphere[\"b1m\"][:]) .> 0\n",
    "x = [x for (x, y, z) in Iterators.product(xr, xr, xr)][ρ .!= 0]\n",
    "y = [y for (x, y, z) in Iterators.product(xr, xr, xr)][ρ .!= 0]\n",
    "z = [z for (x, y, z) in Iterators.product(xr, xr, xr)][ρ .!= 0]\n",
    "coil_sens = 1.0 * sphere[\"b1m\"][:][ρ .!= 0] ./ maximum(abs.(sphere[\"b1m\"][:][ρ .!= 0]))\n",
    "ρ = 1.0 * ρ[ρ .!= 0]\n",
    "obj = Phantom(; x, y, z, ρ, coil_sens)\n",
    "p1 = plot_phantom_map(obj, :coil_sens ; height=400, width=400, darkmode=true)"
   ],
   "metadata": {},
   "execution_count": null
  },
  {
   "cell_type": "markdown",
   "source": [
    "Now we will interpolate the coils into a brain phantom (this will be done internally):"
   ],
   "metadata": {}
  },
  {
   "outputs": [],
   "cell_type": "code",
   "source": [
    "using Interpolations\n",
    "coil_sens = sphere[\"b1m\"] ./ maximum(abs.(sphere[\"b1m\"][:]))\n",
    "obj = brain_phantom2D()\n",
    "obj.coil_sens .= LinearInterpolation((xr,xr,xr), coil_sens, extrapolation_bc=0).(obj.x, obj.y, obj.z)\n",
    "p2 = plot_phantom_map(obj, :coil_sens ; height=400, width=400, darkmode=true)"
   ],
   "metadata": {},
   "execution_count": null
  },
  {
   "cell_type": "markdown",
   "source": [
    "Then, we will load an EPI sequence."
   ],
   "metadata": {}
  },
  {
   "outputs": [],
   "cell_type": "code",
   "source": [
    "seq_file = joinpath(dirname(pathof(KomaMRI)), \"../examples/5.koma_paper/comparison_accuracy/sequences/EPI/epi_100x100_TE100_FOV230.seq\")\n",
    "seq = read_seq(seq_file)"
   ],
   "metadata": {},
   "execution_count": null
  },
  {
   "cell_type": "markdown",
   "source": [
    "And simulate:"
   ],
   "metadata": {}
  },
  {
   "outputs": [],
   "cell_type": "code",
   "source": [
    "raw = simulate(obj, seq, sys)\n",
    "acq = AcquisitionData(raw) # hide\n",
    "acq.traj[1].circular = false # hide\n",
    "Nx, Ny = raw.params[\"reconSize\"][1:2] # hide\n",
    "reconParams = Dict{Symbol,Any}(:reco=>\"direct\", :reconSize=>(Nx, Ny)) # hide\n",
    "image = reconstruction(acq, reconParams) # hide\n",
    "slice_abs = abs.(image[:, :, 1]) # hide\n",
    "p3 = plot_image(slice_abs; height=400) # hide"
   ],
   "metadata": {},
   "execution_count": null
  },
  {
   "cell_type": "markdown",
   "source": [
    "#md #\n",
    "#md # <center><object type=\"text/html\" data=\"../../assets/6-recon.html\" style=\"width:65%; height:420px;\"></object></center>\n",
    "#md #"
   ],
   "metadata": {}
  },
  {
   "cell_type": "markdown",
   "source": [
    "---\n",
    "\n",
    "*This notebook was generated using [Literate.jl](https://github.com/fredrikekre/Literate.jl).*"
   ],
   "metadata": {}
  }
 ],
 "nbformat_minor": 3,
 "metadata": {
  "language_info": {
   "file_extension": ".jl",
   "mimetype": "application/julia",
   "name": "julia",
   "version": "1.10.4"
  },
  "kernelspec": {
   "name": "julia-1.10",
   "display_name": "Julia 1.10.4",
   "language": "julia"
  }
 },
 "nbformat": 4
}
