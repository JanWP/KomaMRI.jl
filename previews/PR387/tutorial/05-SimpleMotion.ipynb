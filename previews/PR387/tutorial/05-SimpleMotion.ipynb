{
 "cells": [
  {
   "cell_type": "markdown",
   "source": [
    "# Patient's Motion During Acquisition"
   ],
   "metadata": {}
  },
  {
   "outputs": [],
   "cell_type": "code",
   "source": [
    "using KomaMRI # hide\n",
    "sys = Scanner() # hide"
   ],
   "metadata": {},
   "execution_count": null
  },
  {
   "cell_type": "markdown",
   "source": [
    "It can also be interesting to see the effect of the patient's motion during an MRI scan.\n",
    "For this, Koma provides the ability to add `MotionModel`'s to the phantom.\n",
    "In this tutorial, we will show how to add a `SimpleMotion` model to a 2D brain phantom."
   ],
   "metadata": {}
  },
  {
   "cell_type": "markdown",
   "source": [
    "First, let's load the 2D brain phantom used in the previous tutorials:"
   ],
   "metadata": {}
  },
  {
   "outputs": [],
   "cell_type": "code",
   "source": [
    "obj = brain_phantom2D()\n",
    "obj.Δw .= 0 # hide"
   ],
   "metadata": {},
   "execution_count": null
  },
  {
   "cell_type": "markdown",
   "source": [
    "The `SimpleMotion` model includes a list of `SimpleMotionType`'s, to enabling mix-and-matching simple motions.\n",
    "In this example, we will add a `Rotation` of 45 degrees around the z-axis with duration of 200 ms."
   ],
   "metadata": {}
  },
  {
   "outputs": [],
   "cell_type": "code",
   "source": [
    "obj.motion = SimpleMotion([\n",
    "    Rotation(t_start=0.0, t_end=200e-3, yaw=45.0, pitch=0.0, roll=0.0)\n",
    "    ])\n",
    "p1 = plot_phantom_map(obj, :T2 ; height=400, intermediate_time_samples=4)\n",
    "\n",
    "\n",
    "# Read Sequence # hide\n",
    "seq_file = joinpath(dirname(pathof(KomaMRI)), \"../examples/5.koma_paper/comparison_accuracy/sequences/EPI/epi_100x100_TE100_FOV230.seq\") # hide\n",
    "seq = read_seq(seq_file) # hide\n",
    "\n",
    "# Simulate # hide\n",
    "raw1 = simulate(obj, seq, sys) # hide\n",
    "\n",
    "# Recon # hide\n",
    "acq1 = AcquisitionData(raw1) # hide\n",
    "acq1.traj[1].circular = false # hide\n",
    "Nx, Ny = raw1.params[\"reconSize\"][1:2] # hide\n",
    "reconParams = Dict{Symbol,Any}(:reco=>\"direct\", :reconSize=>(Nx, Ny)) # hide\n",
    "image1 = reconstruction(acq1, reconParams) # hide"
   ],
   "metadata": {},
   "execution_count": null
  },
  {
   "cell_type": "markdown",
   "source": [
    "If we simulate an EPI sequence with acquisition duration (183.989 ms) comparable with the motion's duration (200 ms),\n",
    "we will observe motion-induced artifacts in the reconstructed image."
   ],
   "metadata": {}
  },
  {
   "outputs": [],
   "cell_type": "code",
   "source": [
    "# Plotting the recon # hide\n",
    "p3 = plot_image(abs.(image1[:, :, 1]); height=400) # hide"
   ],
   "metadata": {},
   "execution_count": null
  },
  {
   "cell_type": "markdown",
   "source": [
    "The severity of the artifacts can vary depending on the acquisition duration and `k`-space trajectory.\n",
    "Below, we show the effect of the same motion in an spiral acquisition (dur. 39 ms, which is 5 times faster than the motion.)"
   ],
   "metadata": {}
  },
  {
   "outputs": [],
   "cell_type": "code",
   "source": [
    "# Read Sequence # hide\n",
    "seq_file = joinpath(dirname(pathof(KomaMRI)), \"../examples/5.koma_paper/comparison_accuracy/sequences/Spiral/spiral_100x100_FOV230_SPZ_INTER1.seq\") # hide\n",
    "seq = read_seq(seq_file) # hide\n",
    "\n",
    "# Simulate # hide\n",
    "raw1 = simulate(obj, seq, sys) # hide\n",
    "\n",
    "# Recon # hide\n",
    "acq1 = AcquisitionData(raw1) # hide\n",
    "Nx, Ny = raw1.params[\"reconSize\"][1:2] # hide\n",
    "reconParams = Dict{Symbol,Any}(:reco=>\"direct\", :reconSize=>(Nx, Ny)) # hide\n",
    "image1 = reconstruction(acq1, reconParams) # hide\n",
    "\n",
    "# Plotting the recon # hide\n",
    "p4 = plot_image(abs.(image1[:, :, 1]); height=400) # hide"
   ],
   "metadata": {},
   "execution_count": null
  },
  {
   "cell_type": "markdown",
   "source": [
    "---\n",
    "\n",
    "*This notebook was generated using [Literate.jl](https://github.com/fredrikekre/Literate.jl).*"
   ],
   "metadata": {}
  }
 ],
 "nbformat_minor": 3,
 "metadata": {
  "language_info": {
   "file_extension": ".jl",
   "mimetype": "application/julia",
   "name": "julia",
   "version": "1.10.3"
  },
  "kernelspec": {
   "name": "julia-1.10",
   "display_name": "Julia 1.10.3",
   "language": "julia"
  }
 },
 "nbformat": 4
}
