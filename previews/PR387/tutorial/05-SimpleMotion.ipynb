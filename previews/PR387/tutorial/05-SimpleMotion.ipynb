{
 "cells": [
  {
   "cell_type": "markdown",
   "source": [
    "# Patient's Motion During Acquisition"
   ],
   "metadata": {}
  },
  {
   "outputs": [],
   "cell_type": "code",
   "source": [
    "using KomaMRI # hide\n",
    "sys = Scanner() # hide"
   ],
   "metadata": {},
   "execution_count": null
  },
  {
   "cell_type": "markdown",
   "source": [
    "It can also be interesting to see the effect of the patient's motion during an MRI scan.\n",
    "For this, Koma provides the ability to add `motion <: MotionModel` to the phantom.\n",
    "In this tutorial, we will show how to add a `SimpleMotion` model to a 2D brain phantom."
   ],
   "metadata": {}
  },
  {
   "cell_type": "markdown",
   "source": [
    "First, let's load the 2D brain phantom used in the previous tutorials:"
   ],
   "metadata": {}
  },
  {
   "outputs": [],
   "cell_type": "code",
   "source": [
    "obj = brain_phantom2D()\n",
    "obj.Δw .= 0 # hide"
   ],
   "metadata": {},
   "execution_count": null
  },
  {
   "cell_type": "markdown",
   "source": [
    "### Head Rotation\n",
    "\n",
    "The `SimpleMotion` model includes a list of `SimpleMotionType`'s, to enabling mix-and-matching simple motions.\n",
    "In this example, we will add a `Rotation` of 45 degrees around the z-axis with duration of 200 ms:"
   ],
   "metadata": {}
  },
  {
   "outputs": [],
   "cell_type": "code",
   "source": [
    "obj.motion = SimpleMotion([\n",
    "    Rotation(t_start=0.0, t_end=200e-3, yaw=45.0, pitch=0.0, roll=0.0)\n",
    "])\n",
    "p1 = plot_phantom_map(obj, :T2 ; height=450, intermediate_time_samples=4) # hide\n",
    "\n",
    "\n",
    "\n",
    "# Read Sequence # hide\n",
    "seq_file1 = joinpath(dirname(pathof(KomaMRI)), \"../examples/5.koma_paper/comparison_accuracy/sequences/EPI/epi_100x100_TE100_FOV230.seq\") # hide\n",
    "seq1 = read_seq(seq_file1) # hide\n",
    "\n",
    "# Simulate # hide\n",
    "raw1 = simulate(obj, seq1, sys) # hide\n",
    "\n",
    "# Recon # hide\n",
    "acq1 = AcquisitionData(raw1) # hide\n",
    "acq1.traj[1].circular = false # hide\n",
    "Nx, Ny = raw1.params[\"reconSize\"][1:2] # hide\n",
    "reconParams = Dict{Symbol,Any}(:reco=>\"direct\", :reconSize=>(Nx, Ny)) # hide\n",
    "image1 = reconstruction(acq1, reconParams) # hide"
   ],
   "metadata": {},
   "execution_count": null
  },
  {
   "cell_type": "markdown",
   "source": [
    "If we simulate an EPI sequence with acquisition duration (183.989 ms) comparable with the motion's duration (200 ms),\n",
    "we will observe motion-induced artifacts in the reconstructed image."
   ],
   "metadata": {}
  },
  {
   "outputs": [],
   "cell_type": "code",
   "source": [
    "# Plotting the recon # hide\n",
    "p2 = plot_image(abs.(image1[:, :, 1]); height=400) # hide"
   ],
   "metadata": {},
   "execution_count": null
  },
  {
   "cell_type": "markdown",
   "source": [
    "The severity of the artifacts can vary depending on the acquisition duration and $k$-space trajectory."
   ],
   "metadata": {}
  },
  {
   "cell_type": "markdown",
   "source": [
    "### Head Translation\n",
    "\n",
    "Now, let's redefine the phantom's motion with a `Translation` of 2 cm in x, with duration of 200 ms (v = 0.1 m/s):"
   ],
   "metadata": {}
  },
  {
   "outputs": [],
   "cell_type": "code",
   "source": [
    "obj.motion = SimpleMotion([\n",
    "    Translation(t_start=0.0, t_end=200e-3, dx=2e-2, dy=0.0, dz=0.0)\n",
    "])\n",
    "p3 = plot_phantom_map(obj, :T2 ; height=450, intermediate_time_samples=4) # hide\n",
    "\n",
    "\n",
    "# Simulate # hide\n",
    "raw1 = simulate(obj, seq1, sys) # hide\n",
    "\n",
    "# Recon # hide\n",
    "acq1 = AcquisitionData(raw1) # hide\n",
    "acq1.traj[1].circular = false # hide\n",
    "Nx, Ny = raw1.params[\"reconSize\"][1:2] # hide\n",
    "reconParams = Dict{Symbol,Any}(:reco=>\"direct\", :reconSize=>(Nx, Ny)) # hide\n",
    "image1 = reconstruction(acq1, reconParams) # hide"
   ],
   "metadata": {},
   "execution_count": null
  },
  {
   "cell_type": "markdown",
   "source": [
    "### Motion-Corrected Reconstruction\n",
    "\n",
    "Once simulation is done, it is possible to perform a corrected reconstrution\n",
    "in order to revert the motion effect in the final image.\n",
    "This can be achieved by multiplying each sample of the acquired signal\n",
    "by a phase which is proportional to the displacement in each direction (Δx, Δy, Δz)\n",
    "at the time instant when the sample was acquired [[Godenschweger, 2016]](https://www.ncbi.nlm.nih.gov/pmc/articles/PMC4930872/):"
   ],
   "metadata": {}
  },
  {
   "cell_type": "markdown",
   "source": [
    "$$\n",
    "S(k_x, k_y, k_z)_{\\text{cor}} = S(k_x, k_y, k_z)_{\\text{orig}} \\cdot e^{i \\Delta \\phi_{\\text{cor}}} = S(k_x, k_y, k_z)_{\\text{orig}} \\cdot e^{i 2 \\pi (k_x \\Delta x + k_y \\Delta y + k_z \\Delta z)}\n",
    "$$"
   ],
   "metadata": {}
  },
  {
   "cell_type": "markdown",
   "source": [
    "We need to obtain the displacements in every ADC sampling time of the sequence.\n",
    "Since translation is a rigid motion,\n",
    "we can obtain the displacements only for one spin,\n",
    "as the displacements of the rest will be the same."
   ],
   "metadata": {}
  },
  {
   "outputs": [],
   "cell_type": "code",
   "source": [
    "sample_times = get_adc_sampling_times(seq1)\n",
    "displacements = hcat(get_spin_coords(obj.motion, [0.0], [0.0], [0.0], sample_times)...)\n",
    "\n",
    "p4 = KomaMRIPlots.plot( # hide\n",
    "    sample_times, # hide\n",
    "    displacements .* 1e2, # hide\n",
    "    KomaMRIPlots.Layout( # hide\n",
    "        title = \"Head displacement in x, y and z\", # hide\n",
    "        xaxis_title = \"time (s)\", # hide\n",
    "        yaxis_title = \"Displacement (cm)\" # hide\n",
    "    )) # hide\n",
    "KomaMRIPlots.restyle!(p4,1:3, name=[\"Δx\", \"Δy\", \"Δz\"]) # hide"
   ],
   "metadata": {},
   "execution_count": null
  },
  {
   "cell_type": "markdown",
   "source": [
    "We can now get the necessary phase shift for each sample:"
   ],
   "metadata": {}
  },
  {
   "outputs": [],
   "cell_type": "code",
   "source": [
    "_, kspace = get_kspace(seq1)\n",
    "ΔΦ = 2π*sum(kspace .* displacements, dims=2)"
   ],
   "metadata": {},
   "execution_count": null
  },
  {
   "cell_type": "markdown",
   "source": [
    "And we apply the phase correction:"
   ],
   "metadata": {}
  },
  {
   "outputs": [],
   "cell_type": "code",
   "source": [
    "acq1.kdata[1] .*= exp.(im*ΔΦ)\n",
    "\n",
    "image2 = reconstruction(acq1, reconParams) # hide\n",
    "\n",
    "p5 = plot_image(abs.(image1[:, :, 1]); height=400) # hide\n",
    "p6 = plot_image(abs.(image2[:, :, 1]); height=400) # hide"
   ],
   "metadata": {},
   "execution_count": null
  },
  {
   "cell_type": "markdown",
   "source": [
    "On the left, you can see the original reconstructed image\n",
    "and the artifact produced by the translation in x.\n",
    "On the right, the result of the motion-corrected reconstruction,\n",
    "where we have achieved an image similar to the one\n",
    "we would have obtained from simulating over a static phantom."
   ],
   "metadata": {}
  },
  {
   "cell_type": "markdown",
   "source": [
    "---\n",
    "\n",
    "*This notebook was generated using [Literate.jl](https://github.com/fredrikekre/Literate.jl).*"
   ],
   "metadata": {}
  }
 ],
 "nbformat_minor": 3,
 "metadata": {
  "language_info": {
   "file_extension": ".jl",
   "mimetype": "application/julia",
   "name": "julia",
   "version": "1.10.3"
  },
  "kernelspec": {
   "name": "julia-1.10",
   "display_name": "Julia 1.10.3",
   "language": "julia"
  }
 },
 "nbformat": 4
}
