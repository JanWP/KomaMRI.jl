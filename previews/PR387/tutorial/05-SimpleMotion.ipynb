{
 "cells": [
  {
   "cell_type": "markdown",
   "source": [
    "# Simple Motion Definition and Simulation"
   ],
   "metadata": {}
  },
  {
   "outputs": [],
   "cell_type": "code",
   "source": [
    "using KomaMRI # hide\n",
    "sys = Scanner() # hide"
   ],
   "metadata": {},
   "execution_count": null
  },
  {
   "cell_type": "markdown",
   "source": [
    "This tutorial illustrates how we can add simple motion to phantoms. We will also see how phantoms can be stored and loaded from $.phantom$ files."
   ],
   "metadata": {}
  },
  {
   "cell_type": "markdown",
   "source": [
    "First, we load a static 3D brain phantom:"
   ],
   "metadata": {}
  },
  {
   "outputs": [],
   "cell_type": "code",
   "source": [
    "obj = brain_phantom3D()\n",
    "obj.Δw .= 0 # Removes the off-resonance"
   ],
   "metadata": {},
   "execution_count": null
  },
  {
   "cell_type": "markdown",
   "source": [
    "Now, we will add Rotation Motion to recreate the patient's movement inside the scanner."
   ],
   "metadata": {}
  },
  {
   "outputs": [],
   "cell_type": "code",
   "source": [
    "obj.motion = SimpleMotion([Rotation(t_start=0.0, t_end=0.5, pitch=15.0, roll=0.0, yaw=45.0)])\n",
    "p1 = plot_phantom_map(obj, :T2 ; height=600, intermediate_time_samples=4)"
   ],
   "metadata": {},
   "execution_count": null
  },
  {
   "cell_type": "markdown",
   "source": [
    "Then, we will load an EPI sequence"
   ],
   "metadata": {}
  },
  {
   "outputs": [],
   "cell_type": "code",
   "source": [
    "seq_file = joinpath(dirname(pathof(KomaMRI)), \"../examples/5.koma_paper/comparison_accuracy/sequences/EPI/epi_100x100_TE100_FOV230.seq\")\n",
    "seq = read_seq(seq_file)\n",
    "p2 = plot_seq(seq; range=[0 40], slider=true, height=300)"
   ],
   "metadata": {},
   "execution_count": null
  },
  {
   "cell_type": "markdown",
   "source": [
    "Now, we will run two simulations: the first with the sequence starting at $t=0.0$,\n",
    "and the second adding a 0.5s initial delay to the sequence:"
   ],
   "metadata": {}
  },
  {
   "outputs": [],
   "cell_type": "code",
   "source": [
    "# Simulate\n",
    "raw1 = simulate(obj, seq, sys)\n",
    "raw2 = simulate(obj, Delay(0.5) + seq, sys)"
   ],
   "metadata": {},
   "execution_count": null
  },
  {
   "cell_type": "markdown",
   "source": [
    "Let's note the effect of motion in both reconstructions:"
   ],
   "metadata": {}
  },
  {
   "outputs": [],
   "cell_type": "code",
   "source": [
    "# Get the acquisition data\n",
    "acq1 = AcquisitionData(raw1)\n",
    "acq2 = AcquisitionData(raw2)\n",
    "acq1.traj[1].circular = false #This is to remove the circular mask\n",
    "acq2.traj[1].circular = false\n",
    "\n",
    "# Setting up the reconstruction parameters\n",
    "Nx, Ny = raw1.params[\"reconSize\"][1:2]\n",
    "reconParams = Dict{Symbol,Any}(:reco=>\"direct\", :reconSize=>(Nx, Ny))\n",
    "\n",
    "image1 = reconstruction(acq1, reconParams)\n",
    "image2 = reconstruction(acq2, reconParams)\n",
    "\n",
    "# Plotting the recon\n",
    "p3 = plot_image(abs.(image1[:, :, 1]); height=400)\n",
    "p4 = plot_image(abs.(image2[:, :, 1]); height=400)"
   ],
   "metadata": {},
   "execution_count": null
  },
  {
   "cell_type": "markdown",
   "source": [
    "---\n",
    "\n",
    "*This notebook was generated using [Literate.jl](https://github.com/fredrikekre/Literate.jl).*"
   ],
   "metadata": {}
  }
 ],
 "nbformat_minor": 3,
 "metadata": {
  "language_info": {
   "file_extension": ".jl",
   "mimetype": "application/julia",
   "name": "julia",
   "version": "1.10.3"
  },
  "kernelspec": {
   "name": "julia-1.10",
   "display_name": "Julia 1.10.3",
   "language": "julia"
  }
 },
 "nbformat": 4
}
