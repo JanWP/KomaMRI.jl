{
 "cells": [
  {
   "cell_type": "markdown",
   "source": [
    "# Simple Motion Definition and Simulation"
   ],
   "metadata": {}
  },
  {
   "outputs": [],
   "cell_type": "code",
   "source": [
    "using KomaMRI # hide\n",
    "sys = Scanner() # hide"
   ],
   "metadata": {},
   "execution_count": null
  },
  {
   "cell_type": "markdown",
   "source": [
    "This tutorial illustrates how we can add simple motion to phantoms.\n",
    "We will also see how phantoms can be stored and loaded from $.phantom$ files."
   ],
   "metadata": {}
  },
  {
   "cell_type": "markdown",
   "source": [
    "First, we load a static 3D brain phantom:"
   ],
   "metadata": {}
  },
  {
   "outputs": [],
   "cell_type": "code",
   "source": [
    "obj1 = brain_phantom3D()\n",
    "obj1.Δw .= 0 # Removes the off-resonance\n",
    "p1 = plot_phantom_map(obj1, :T2 ; height=400)"
   ],
   "metadata": {},
   "execution_count": null
  },
  {
   "cell_type": "markdown",
   "source": [
    "Now, we will make a copy of the phantom, to which we will add Rotation Motion\n",
    "to recreate the patient's movement inside the scanner."
   ],
   "metadata": {}
  },
  {
   "outputs": [],
   "cell_type": "code",
   "source": [
    "obj2 = copy(obj1)\n",
    "obj2.motion = SimpleMotion([Rotation(t_start=0.0, t_end=0.25, pitch=15.0, roll=0.0, yaw=45.0)])\n",
    "p2 = plot_phantom_map(obj2, :T2 ; height=400, intermediate_time_samples=4)"
   ],
   "metadata": {},
   "execution_count": null
  },
  {
   "cell_type": "markdown",
   "source": [
    "---\n",
    "\n",
    "*This notebook was generated using [Literate.jl](https://github.com/fredrikekre/Literate.jl).*"
   ],
   "metadata": {}
  }
 ],
 "nbformat_minor": 3,
 "metadata": {
  "language_info": {
   "file_extension": ".jl",
   "mimetype": "application/julia",
   "name": "julia",
   "version": "1.10.3"
  },
  "kernelspec": {
   "name": "julia-1.10",
   "display_name": "Julia 1.10.3",
   "language": "julia"
  }
 },
 "nbformat": 4
}
